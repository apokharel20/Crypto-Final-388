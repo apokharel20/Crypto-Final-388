{
 "cells": [
  {
   "cell_type": "markdown",
   "metadata": {},
   "source": [
    "## Can we Effectively Predict the Course of the Cryptocurrency Market?"
   ]
  },
  {
   "cell_type": "markdown",
   "metadata": {},
   "source": [
    "In machine learning, event-driven models to predict stock prices dominate the headlines. Many people use knowledge maps to construct a set of keywords to filter relevant textual data (i.e. the content of popular tweets and news headlines) for training. An inherently problematic aspect of this approach is that the performance of an event-driven model is ultimately dependent on a pre-determined set of key words; the efficacy of the entire model thus comes into questions, as the real world is vastly more complex than relationships given by a knowledge map.\n",
    "\n",
    "We believe that there exist strong connections between the performance of different major markets. Our hypothesis is grounded in the following observation: major markets tend to have mutual dependencies (e.g. when gas price rises as a result of disturbances in the crude oil market, fewer people will drive cars) and total capitals invested into markets tend to be relatively stable in a short period of time (e.g. when investors get back money from one market, they want to invest other markets because they don't want their money to shrink in banks). \n",
    "\n",
    "If we discover meaningful relations between different markets, we can use ensemble methods and extant models for predicting market performance to construct our own organic model to predict the course of a major market. This can be seen as an extension of knowledge map through use of trans-market information. As the title of our project alludes, we will chiefly target the cryptocurrency market, as we believe it is most sensitive to other markets. Our primary motivating factor is that reserarch on event-driven models for cryptocurrency prices is quite scant.\n",
    "\n",
    "### Breakdown\n",
    "\n",
    "The following were the major junctures in our project:\n",
    "\n",
    "1. We first scrape webpages from Yahoo finance, Google finance, coincapmarket.com and other websites to obtain price data of cryptocurrencies and indexes of the markets in which are interested in observing potential parallels (gold, crude oil, etc.). \n",
    "2. We then use this data to conduct a hypothesis test to see if other markets have significant relationships with cryptocurrency market.\n",
    "3. We collect tweet texts filtered by naïve keywords sets and use these text data to train models to predict different markets separately.\n",
    "4. With correlations and naïve models in hand, we want to combine them with ensemble methods to see if models predicting other markets can help improve our naïve model for predicting the cryptocurrency market."
   ]
  },
  {
   "cell_type": "markdown",
   "metadata": {},
   "source": [
    "### Collecting market prices variations from stock indices"
   ]
  },
  {
   "cell_type": "markdown",
   "metadata": {},
   "source": [
    "First, our goal is to collect prices from different markets. While there are many methods to retrieve the data, we will use Google Finance API in this project. The package can be installed running the following command in terminal:\n",
    "\n",
    "$ `pip install googlefinance.client`"
   ]
  },
  {
   "cell_type": "code",
   "execution_count": 3,
   "metadata": {
    "collapsed": true
   },
   "outputs": [],
   "source": [
    "from googlefinance.client import get_price_data\n",
    "from scipy import stats\n",
    "import numpy as np\n",
    "import matplotlib.pyplot as plt\n",
    "%matplotlib inline"
   ]
  },
  {
   "cell_type": "markdown",
   "metadata": {},
   "source": [
    "The Google Finance API includes a method `get_price_data()` that returns a `pandas.DataFrame` of the prices of a market (labeled by a stock market index) for a given period (e.g. last two years, last six months) and interval (given in seconds). An early obstacle we encountered in getting data from this API was that missing data was common when examining across smaller intervals (seconds, minutes, hours, and days). \n",
    "\n",
    "Since our goal is to perform thorough comparisons of the markets on an aligned timeline, we'll first retrieve prices on a day to day basis (interval = 86400 seconds). Then, we can compute monthly means to preemptively take of care of missing data points and make sure we synchronize the number of datapoints that we manipulate for all markets.\n",
    "\n",
    "Additionally, for a given time unit, the API provides different prices (cf. [OHLC chart](https://en.wikipedia.org/wiki/Open-high-low-close_chart)). For this project, we will only use the closing price. The following is the code that executes on this approach for data collection:"
   ]
  },
  {
   "cell_type": "code",
   "execution_count": 4,
   "metadata": {
    "collapsed": true
   },
   "outputs": [],
   "source": [
    "def collect_market(stock, period='1Y', frequency='MONTHLY'):\n",
    "    \"\"\" Given a stock index, a period and a frequency, collects the daily closing price of the market\n",
    "    Args:\n",
    "        stock (string) : stock symbol (ex: 'AAPL')\n",
    "        period (string) : period (ex: '1Y' = 1 year, '6M' = 6 months, '1d' = 1 day)\n",
    "        frequency (string) : frequency of data ('DAILY' = per day, 'MONTHLY' = per month)\n",
    "    Returns:\n",
    "        prices (pandas.DataFrame) : daily closing prices of the corresponding market\n",
    "    \"\"\"\n",
    "    param = {}\n",
    "    param['q'] = stock\n",
    "    param['i'] = '86400' # Daily interval\n",
    "    param['p'] = period\n",
    "    prices = get_price_data(param)\n",
    "    if frequency == 'MONTHLY': # Compute the mean by month if frequency is MONTHLY\n",
    "        prices['date'] = prices.index.map(lambda x: x.strftime('%Y-%m'))\n",
    "        prices = prices.groupby('date').mean()\n",
    "    return prices['Close']"
   ]
  },
  {
   "cell_type": "markdown",
   "metadata": {},
   "source": [
    "We focus our analysis on Bitcoin, as it is currently the most popular cryptocurrency and generally considered to be the canonical representative of the performance of most coins in the market. With the method defined above, we can collect the month by month prices from the last year (2017-05 to 2018-05) using the BTCUSD index."
   ]
  },
  {
   "cell_type": "code",
   "execution_count": 5,
   "metadata": {},
   "outputs": [
    {
     "data": {
      "image/png": "[encoded data removed]",
      "text/plain": [
       "<matplotlib.figure.Figure at 0x1a08b98f98>"
      ]
     },
     "metadata": {},
     "output_type": "display_data"
    }
   ],
   "source": [
    "btc_prices = collect_market('BTCUSD')\n",
    "plt.figure(figsize=(12, 5))\n",
    "plt.xlabel('Date')\n",
    "plt.ylabel('Price (USD) of 1 Bitcoin')\n",
    "plt.title('Monthly evolution of the price of Bitcoin in the last year')\n",
    "plt.plot(btc_prices);"
   ]
  },
  {
   "cell_type": "markdown",
   "metadata": {},
   "source": [
    "To conduct our correlation tests, we are actually more interested in the variations of prices rather than in the prices themselves. Let's define a simple function that computes the month by month percent variations of a given set of monthly prices."
   ]
  },
  {
   "cell_type": "code",
   "execution_count": 6,
   "metadata": {
    "collapsed": true
   },
   "outputs": [],
   "source": [
    "def prices_variations(prices):\n",
    "    \"\"\" Given prices from a market, compute the variations between one unit of time and its predecessor\n",
    "    Args:\n",
    "        prices (pandas.DataFrame) : daily closing prices of a market\n",
    "    Returns:\n",
    "        variations (numpy.ndarray) : percentage variations between two units of time \n",
    "    \"\"\"\n",
    "    return np.array([100*(x-prices[i-1])/prices[i-1] for i, x in enumerate(prices)][1:])"
   ]
  },
  {
   "cell_type": "markdown",
   "metadata": {},
   "source": [
    "Now, let's use this function to compute and visualize the variations of the prices of Bitcoin over the last year."
   ]
  },
  {
   "cell_type": "code",
   "execution_count": 7,
   "metadata": {},
   "outputs": [
    {
     "data": {
      "image/png": "[encoded data removed]",
      "text/plain": [
       "<matplotlib.figure.Figure at 0x1a120b4668>"
      ]
     },
     "metadata": {},
     "output_type": "display_data"
    }
   ],
   "source": [
    "btc_var = prices_variations(btc_prices)\n",
    "plt.figure(figsize=(10, 5))\n",
    "plt.xlabel('Month')\n",
    "plt.ylabel('Variation of the price (USD) of 1 Bitcoin')\n",
    "plt.title('Monthly percentage variation of the price of Bitcoin in the last year')\n",
    "plt.plot(btc_var);"
   ]
  },
  {
   "cell_type": "markdown",
   "metadata": {},
   "source": [
    "Now, we can collect the variations of other markets in the same way. In this project, we will focus on the following tickers for indexes that we will deem fit for reflection of the performance of the entire market sector:\n",
    "* Technology: NDAQ\n",
    "* Renewable energy: OSPTX\n",
    "* Real estate: DJUSRE\n",
    "* Crude oil: CL1\n",
    "* Gold: HUI"
   ]
  },
  {
   "cell_type": "code",
   "execution_count": 8,
   "metadata": {
    "collapsed": true
   },
   "outputs": [],
   "source": [
    "def collect_variations(stocks, period='1Y', frequency='MONTHLY'):\n",
    "    \"\"\" Given a list of stock indexes, a period and a frequency, collects the variations of the markets\n",
    "    Args:\n",
    "        stocks (list) : list of stock symbols (ex: ['NDAQ', 'OSPTX'])\n",
    "        period (string) : period (ex: '1Y' = 1 year, '6M' = 6 months, '1d' = 1 day)\n",
    "        frequency (string) : frequency of data ('DAILY' = per day, 'MONTHLY' = per month)\n",
    "    Returns:\n",
    "        stocks_var (dict) : variations of each market\n",
    "    \"\"\"\n",
    "    stocks_var = {}\n",
    "    for stock in stocks:\n",
    "        prices = collect_market(stock, period, frequency)\n",
    "        stocks_var[stock] = prices_variations(prices)\n",
    "    return stocks_var"
   ]
  },
  {
   "cell_type": "code",
   "execution_count": 9,
   "metadata": {
    "collapsed": true
   },
   "outputs": [],
   "source": [
    "stocks = ['NDAQ', 'OSPTX', 'DJUSRE', 'CL1', 'HUI'] # List of stock indexes\n",
    "stocks_var = collect_variations(stocks) # Collect the variations of each market"
   ]
  },
  {
   "cell_type": "markdown",
   "metadata": {},
   "source": [
    "### Tests of Pearson's correlation\n",
    "\n",
    "To investigate the correlation between the Bitcoin market and the other markets, we will conduct tests involving Pearson's correlation. The Pearson's Correlation Coefficient is a measure of the linear correlation between two variables $X$ and $Y$. The main idea of the test is to compute a p-value from this coefficient to ascertain the strength of the correlation between variables -- in our case, the variables are the fluctuations in the markets. \n",
    "\n",
    "This test can be conducted in six steps:\n",
    "\n",
    "#### Step 1: specify the null hypothesis and the alternative hypothesis\n",
    "\n",
    "$H_0: \\rho = 0$ (no linear correlation) $\\qquad$ $H_1: \\rho \\neq 0$ (linear correlation)\n",
    "\n",
    "#### Step 2: choose a significance level\n",
    "\n",
    "We want to provide results with a 95% confidence level, thus we set $\\alpha = 0.05$\n",
    "\n",
    "#### Step 3: compute the sample value of Pearson's correlation coefficient\n",
    "\n",
    "Pearson's correlation coefficient (also referred to as Pearson's r) is computed with the following formula:\n",
    "\n",
    "$r = \\frac{\\sum XY-\\frac{\\sum X \\sum Y}{N}}{\\sqrt{(\\sum X^2-\\frac{(\\sum X)^2}{N})\\times(\\sum Y^2-\\frac{(\\sum Y)^2}{N})}}$\n",
    "\n",
    "Below is the code for this computation:"
   ]
  },
  {
   "cell_type": "code",
   "execution_count": 10,
   "metadata": {
    "collapsed": true
   },
   "outputs": [],
   "source": [
    "def pearson_coefficient(X, Y):\n",
    "    \"\"\" Computes the Pearson's correlation coefficient\n",
    "    Args:\n",
    "        X (list) : values of the first sample\n",
    "        Y (list) : values of the second sample\n",
    "    Returns:\n",
    "        r (float) : Pearson's correlation coefficient\n",
    "    \"\"\"\n",
    "    return np.divide(np.sum(X*Y)-np.sum(X)*np.sum(Y)/len(X),\n",
    "                     np.sqrt((np.sum(X**2)-np.sum(X)**2/len(X))*(np.sum(Y**2)-np.sum(Y)**2/len(X))))"
   ]
  },
  {
   "cell_type": "markdown",
   "metadata": {},
   "source": [
    "#### Step 4: compute the T-score\n",
    "\n",
    "We will now compute the T-score which will be used to in our evaluation of the p-value and the ultimate conclusion on the strength of the correlation. The formula of the T-score is given by:\n",
    "\n",
    "$t = \\frac{r\\sqrt{N-2}}{\\sqrt{1-r^2}}$\n",
    "\n",
    "And, in Python code, we have:"
   ]
  },
  {
   "cell_type": "code",
   "execution_count": 11,
   "metadata": {
    "collapsed": true
   },
   "outputs": [],
   "source": [
    "def t_score(sample_size, r):\n",
    "    \"\"\" Computes the T-score\n",
    "    Args:\n",
    "        sample_size (int) : size of the sample\n",
    "        r (float) : Pearson's correlation coefficient\n",
    "    Returns:\n",
    "        t (float) : T-score\n",
    "    \"\"\"\n",
    "    return np.divide(r*np.sqrt(sample_size-2), np.sqrt(1-r**2)) if abs(r) != 1 else float('Inf')"
   ]
  },
  {
   "cell_type": "markdown",
   "metadata": {},
   "source": [
    "#### Step 5: compute the p-value\n",
    "\n",
    "The p-value can be obtained from the T-score and degree of freedom. In our case, the degree of freedom, the number variables in our computation that can vary, is given by $N-2$, since we are comparing two markets at a time.\n",
    "\n",
    "In Python,"
   ]
  },
  {
   "cell_type": "code",
   "execution_count": 12,
   "metadata": {
    "collapsed": true
   },
   "outputs": [],
   "source": [
    "def p_value(t, df):\n",
    "    \"\"\" Given a T-score and a degree of freedom, computes the p-value\n",
    "    Args:\n",
    "        t (float) : T-score\n",
    "        df (int) : degree of freedom\n",
    "    Returns:\n",
    "        p (float) : p-value\n",
    "    \"\"\"\n",
    "    return stats.t.sf(np.abs(t), df)*2"
   ]
  },
  {
   "cell_type": "markdown",
   "metadata": {},
   "source": [
    "#### Step 6: conclude\n",
    "\n",
    "If the p-value from Step 5 is less than the significance level of Step 2, then the correlation is significant and we reject $H_0$. Otherwise, there is no strong evidence of linear correlation between $X$ and $Y$ and we do not reject $H_0$. We can encapsulate the entire process in the function `person_test`:\n",
    "\n",
    "#### Summarization of the six steps in one function"
   ]
  },
  {
   "cell_type": "code",
   "execution_count": 13,
   "metadata": {
    "collapsed": true
   },
   "outputs": [],
   "source": [
    "def pearson_test(X, Y, alpha=0.05):\n",
    "    \"\"\" Conduct a Pearson's correlation test\n",
    "    Args:\n",
    "        X (list) : values of first sample\n",
    "        Y (list) : values of second sample\n",
    "        alpha (float) : significance level\n",
    "    \"\"\"\n",
    "    r = pearson_coefficient(X, Y)\n",
    "    t = t_score(len(X), r)\n",
    "    p = p_value(t, len(X) - 2) # df = N - 2\n",
    "    is_significant = p < alpha\n",
    "    print('alpha = {} ; r = {} ; t = {} ; p = {} ; correlation = {} ; reject H0 = {}'\n",
    "          .format(alpha, round(r, 3), round(t, 3), round(p, 3), is_significant, is_significant))"
   ]
  },
  {
   "cell_type": "markdown",
   "metadata": {},
   "source": [
    "As an initial verification of the viability of our code for the test, we can test it with two identical markets; naturally, we expect a complete correlation."
   ]
  },
  {
   "cell_type": "code",
   "execution_count": 14,
   "metadata": {},
   "outputs": [
    {
     "name": "stdout",
     "output_type": "stream",
     "text": [
      "alpha = 0.05 ; r = 1.0 ; t = inf ; p = 0.0 ; correlation = True ; reject H0 = True\n"
     ]
    }
   ],
   "source": [
    "pearson_test(btc_var, btc_var)"
   ]
  },
  {
   "cell_type": "markdown",
   "metadata": {},
   "source": [
    "### Correlation between cryptomarket and other markets"
   ]
  },
  {
   "cell_type": "markdown",
   "metadata": {},
   "source": [
    "Now, let's conduct the Pearson's test on the cryptomarket and the other markets!"
   ]
  },
  {
   "cell_type": "code",
   "execution_count": 15,
   "metadata": {},
   "outputs": [
    {
     "name": "stdout",
     "output_type": "stream",
     "text": [
      "-- Test on NDAQ\n",
      "alpha = 0.05 ; r = 0.103 ; t = 0.329 ; p = 0.749 ; correlation = False ; reject H0 = False\n",
      "\n",
      "-- Test on OSPTX\n",
      "alpha = 0.05 ; r = 0.368 ; t = 1.253 ; p = 0.239 ; correlation = False ; reject H0 = False\n",
      "\n",
      "-- Test on DJUSRE\n",
      "alpha = 0.05 ; r = 0.395 ; t = 1.36 ; p = 0.204 ; correlation = False ; reject H0 = False\n",
      "\n",
      "-- Test on CL1\n",
      "alpha = 0.05 ; r = 0.019 ; t = 0.061 ; p = 0.952 ; correlation = False ; reject H0 = False\n",
      "\n",
      "-- Test on HUI\n",
      "alpha = 0.05 ; r = -0.022 ; t = -0.068 ; p = 0.947 ; correlation = False ; reject H0 = False\n",
      "\n"
     ]
    }
   ],
   "source": [
    "for stock in stocks:\n",
    "    print('-- Test on {}'.format(stock))\n",
    "    pearson_test(btc_var, stocks_var[stock])\n",
    "    print()"
   ]
  },
  {
   "cell_type": "markdown",
   "metadata": {},
   "source": [
    "As we can see, with a 95% confidence level, we are compelled to conclude that there is no significant linear correlation between the Bitcoin market and the other markets in the last year. Thus, it must be the case that Bitcoin's volatility precludes the observation of any appreciable correlation, or that our data is insufficient."
   ]
  },
  {
   "cell_type": "markdown",
   "metadata": {},
   "source": [
    "### Correlation between different cryptocurrencies"
   ]
  },
  {
   "cell_type": "markdown",
   "metadata": {},
   "source": [
    "While we couldn't find a strong correlation between the Bitcoin market and the other markets, it is likely that there are correlations between different cryptomarkets. In this section, we will build a heatmap showing how cryptocurrencies are correlated to each other, rather than indexes representing other markets. The heatmap will reflect the results of pairwise Pearson's Correlation Tests on the following coins:\n",
    "\n",
    "* BTCUSD: Bitcoin\n",
    "* BCH: Bitcoin Cash\n",
    "* ETH: Ethereum\n",
    "* LTC: Litecoin\n",
    "* NEO: NEO (formerly ANS)\n",
    "* EOS: EOSIO"
   ]
  },
  {
   "cell_type": "code",
   "execution_count": 16,
   "metadata": {
    "collapsed": true
   },
   "outputs": [],
   "source": [
    "def collect_coefficients(stocks_var):\n",
    "    \"\"\" Given a list of stocks variations, compute the Pearson's correlation coefficient for each pair of stocks\n",
    "    Args:\n",
    "        stocks_var (dict) : variations of each market with n keys\n",
    "    Returns:\n",
    "        coeff (numpy.ndarray) : n*n matrix of Pearson's correlation coefficient\n",
    "    \"\"\"\n",
    "    stocks = list(stocks_var.keys())\n",
    "    return np.array([[pearson_coefficient(stocks_var[stock], stocks_var[other]) for other in stocks]\n",
    "                     for stock in stocks])"
   ]
  },
  {
   "cell_type": "code",
   "execution_count": 17,
   "metadata": {
    "collapsed": true
   },
   "outputs": [],
   "source": [
    "crypto = ['BTCUSD', 'BCH', 'ETH', 'LTC', 'NEO', 'EOS'] # List of cryptocurrencies\n",
    "crypto_var = collect_variations(crypto) # Collect the variations of each cryptocurrency\n",
    "coeff = collect_coefficients(crypto_var) # Collect the Pearson's coefficients"
   ]
  },
  {
   "cell_type": "markdown",
   "metadata": {},
   "source": [
    "Using `Matplotlib.plt.subplots` to build our heatmap will afford a clear visualization of what we mean"
   ]
  },
  {
   "cell_type": "code",
   "execution_count": 18,
   "metadata": {},
   "outputs": [
    {
     "data": {
      "image/png": "[encoded data removed]",
      "text/plain": [
       "<matplotlib.figure.Figure at 0x103812080>"
      ]
     },
     "metadata": {},
     "output_type": "display_data"
    }
   ],
   "source": [
    "fig, ax = plt.subplots(figsize=(10, 6))\n",
    "im = ax.imshow(coeff, vmin=-1, vmax=1, cmap=\"coolwarm\")\n",
    "ax.set_xticks(np.arange(len(crypto)))\n",
    "ax.set_yticks(np.arange(len(crypto)))\n",
    "ax.set_xticklabels(crypto)\n",
    "ax.set_yticklabels(crypto)\n",
    "for row in range(len(coeff)):\n",
    "    for col in range(len(coeff)):\n",
    "        ax.text(col, row, round(coeff[row][col], 3), ha='center', va='center')\n",
    "ax.set_title(\"Pearson's correlation coefficient between cryptocurrencies\")\n",
    "ax.figure.colorbar(im, ax=ax)\n",
    "plt.show()"
   ]
  },
  {
   "cell_type": "markdown",
   "metadata": {},
   "source": [
    "As the heatmap shows, there is a moderately strong positive linear correlation between LTC and NEO, ETH and NEO, and LTC and ETH."
   ]
  },
  {
   "cell_type": "markdown",
   "metadata": {},
   "source": [
    "### A Dose of Reality\n",
    "Our project's aim was to perform the hypothesis test and construct an event-driven model simultaneously. But with such paltry correaltion figures, we knew that it would be best to abandon this effort, since we'd likely end up in an endless cycle of overfitting to generate any meaningful predictions. \n",
    "\n",
    "Given that our original target was to build a machine learning model, we had significant preparations with that motive in mind. The following is a glimpse into a signature aspect of those preparations, a pipeline to collect and process data from Twitter for training purposes."
   ]
  },
  {
   "cell_type": "markdown",
   "metadata": {},
   "source": [
    "### Tweet pipeline\n",
    "In the spirit of our misinformed lofty ambition to build machine learning model to map major events to the course of cryptocurrency, we constructed a pipeline that gets, cleans, formats and stores a tweet into database automatically. This is highly useful when we want to build training features which are timeseries: we can just query databases of texts in a time range.\n",
    "![Tweets Pipeline](images/pipeline.jpg)\n",
    "\n",
    "We used a lot of techniques and libraries were we exposed to in class to build this pipeline, which gets live twitter info about cryptocurrency once launched."
   ]
  },
  {
   "cell_type": "code",
   "execution_count": null,
   "metadata": {},
   "outputs": [
    {
     "name": "stdout",
     "output_type": "stream",
     "text": [
      "twitter_pipeline starts at 2018-05-11 15:09:36.782415\n"
     ]
    }
   ],
   "source": [
    "from datetime import datetime\n",
    "import os\n",
    "print('twitter_pipeline starts at ' + str(datetime.now()))\n",
    "os.system('python ./scripts/twitter_data_pipeline.py crypto')\n"
   ]
  },
  {
   "cell_type": "markdown",
   "metadata": {},
   "source": [
    "Once we run the script as shown above, data from tweets posted while the script is runnning becomes accessible as the activity occurs on twitter. It then undergoes preprocessing so it is available in a format conducive to further processing, querying, and training. These preprocessed tweets are stored in a local database using SQLite.\n",
    "\n",
    "After allowing the script to run its course for several minutes, we can query the resultant database to explore what we were able to obtain. In the interest of readibility, we are only displaying the first five tweets on which we scraped data, but the pipeline is capable of scraping many hundreds of tweets within seconds."
   ]
  },
  {
   "cell_type": "code",
   "execution_count": 15,
   "metadata": {},
   "outputs": [
    {
     "data": {
      "text/plain": [
       "[('2018-05-11 17:20:22',\n",
       "  'RT @MyLiveGirl: The girls #love more premium members !\\n\\nGet credits now on https://t.co/wKFd6fFh0z with #CreditCard #bitcoin #paysafecard #…',\n",
       "  4800,\n",
       "  65,\n",
       "  20975,\n",
       "  2145,\n",
       "  21673),\n",
       " ('2018-05-11 17:20:22',\n",
       "  '$NEO $ONT $ELA #G3 China Will Issue Blockchain ‘Standards’ In 2019, Says Gov’t Official https://t.co/iXKoLxUQqa via @Cointelegraph',\n",
       "  741,\n",
       "  9,\n",
       "  2919,\n",
       "  786,\n",
       "  7514),\n",
       " ('2018-05-11 17:20:22',\n",
       "  'RT @BobsRepair: Crypto Raffle Drawing #7! Our Main Sale Closes in 11 hours! Participate now before it closes. 83% complete. https://t.co/Xv…',\n",
       "  1584,\n",
       "  6,\n",
       "  9823,\n",
       "  181,\n",
       "  3589),\n",
       " ('2018-05-11 17:20:22',\n",
       "  'RT @RetailGlobalNow: Gary Baiton from San Francisco (IBC Group, Crypto Lawyers Corp, Blockchain &amp; ICO Expert, Angel/Crypto Investor) joins…',\n",
       "  3177,\n",
       "  4,\n",
       "  20521,\n",
       "  1811,\n",
       "  1104),\n",
       " ('2018-05-11 17:20:22',\n",
       "  'RT @dbrainio: Dbrain at @DubaiFuturama. Our CEO @matskevich together with the leading crypto-thinkers and entrepreneurs @passiweinberger, S…',\n",
       "  8903,\n",
       "  8,\n",
       "  698,\n",
       "  8791,\n",
       "  20)]"
      ]
     },
     "execution_count": 15,
     "metadata": {},
     "output_type": "execute_result"
    }
   ],
   "source": [
    "import sqlite3 \n",
    "import pandas\n",
    "conn = sqlite3.connect('resources/crypto_tweets.db')\n",
    "cursor = conn.cursor()\n",
    "# Tweets table format:\n",
    "'''         \n",
    "            Date DATETIME,\n",
    "            text TEXT,\n",
    "            followers_count INT,\n",
    "            listed_count INT,\n",
    "            statuses_count INT,\n",
    "            friends_count INT,\n",
    "            favourites_count INT\n",
    "'''\n",
    "cursor.execute('SELECT * FROM Tweets LIMIT 5').fetchall()"
   ]
  },
  {
   "cell_type": "markdown",
   "metadata": {},
   "source": [
    "We can selectively examine the data in the local database by encoding specifications (like the time across which the tweets were published) in SQL queries. This is instrumental in drawing parallels to market performance across synchronized timelines, especially since cryptocurrency tickers are notorious for dramatic shifts. Indeed, our ability to create features for the ML model we originally envisioned was contingent on being able to handily access only portions of the data. One such example is shown below:"
   ]
  },
  {
   "cell_type": "code",
   "execution_count": 19,
   "metadata": {},
   "outputs": [
    {
     "ename": "NameError",
     "evalue": "name 'cursor' is not defined",
     "output_type": "error",
     "traceback": [
      "\u001b[0;31m---------------------------------------------------------------------------\u001b[0m",
      "\u001b[0;31mNameError\u001b[0m                                 Traceback (most recent call last)",
      "\u001b[0;32m<ipython-input-19-3385d5a9a373>\u001b[0m in \u001b[0;36m<module>\u001b[0;34m()\u001b[0m\n\u001b[0;32m----> 1\u001b[0;31m \u001b[0mcursor\u001b[0m\u001b[0;34m.\u001b[0m\u001b[0mexecute\u001b[0m\u001b[0;34m(\u001b[0m\u001b[0;34m'SELECT * FROM Tweets WHERE DATETIME(Date) BETWEEN \"2018-05-11 17:20:24\" AND \"2018-05-11 17:20:25\"'\u001b[0m\u001b[0;34m)\u001b[0m\u001b[0;34m.\u001b[0m\u001b[0mfetchall\u001b[0m\u001b[0;34m(\u001b[0m\u001b[0;34m)\u001b[0m\u001b[0;34m\u001b[0m\u001b[0m\n\u001b[0m",
      "\u001b[0;31mNameError\u001b[0m: name 'cursor' is not defined"
     ]
    }
   ],
   "source": [
    "cursor.execute('SELECT * FROM Tweets WHERE DATETIME(Date) BETWEEN \"2018-05-11 17:20:24\" AND \"2018-05-11 17:20:25\"').fetchall()"
   ]
  },
  {
   "cell_type": "markdown",
   "metadata": {},
   "source": [
    "### What's Next?\n",
    "We would be euphemizing if we were to characterize our project as anything but a case of the realities of practical data ruining the parade on our gradiose aim to produce a machine learning model that could predict the course of cryptocurrency. However, we have learned some valuable lessons that can underpin further exploration of the subject. Namely,\n",
    "1. There exist next to no relationships between the course of cryptocurrency and the traditional drivers of fluctuations in markets, like shifts in other markets or prominent political trends. No wonder we struggled to find even a single precedent of a legitimate event-driven model for predicting cryptocurrency!\n",
    "    - By the same token, we now know that people or organizations purporting to be able to predict cryptocurrency prices are either misguided by a flukes and red-herrings or are trying to hoodwink clientele.\n",
    "2. We can still make inroads in conjecturing about the course of a specific coin by examining a related coin in the cryptocurrency market, since there was evidence of some substantive correlation there.\n",
    "\n",
    "So, perhaps a next adventurous step would be to generate a machine learning model that learns from information about one coin in the market to project what will transpire in the near future for another coin or a set of related coins.\n",
    "\n",
    "<br>\n",
    "<figure>\n",
    "<center>\n",
    "    <img src=\"cool_photo_end.gif\", width=500, height = 400>\n",
    "    <figcaption>.</figcaption>\n",
    "</figure> <center>\n",
    "<br>"
   ]
  },
  {
   "cell_type": "markdown",
   "metadata": {},
   "source": [
    "### References"
   ]
  },
  {
   "cell_type": "markdown",
   "metadata": {},
   "source": [
    "* Google Finance API: https://pypi.org/project/googlefinance.client/\n",
    "* Pearson's correlation test: http://davidmlane.com/hyperstat/B62223.html\n",
    "* How to perform correlation analysis on cryptocurrencies in Google Sheets: https://spreadstreet.io/blog/cryptocurrency-correlation-tool/\n",
    "* Creating annotated heatmaps : https://matplotlib.org/gallery/images_contours_and_fields/image_annotated_heatmap.html"
   ]
  }
 ],
 "metadata": {
  "kernelspec": {
   "display_name": "Python 3",
   "language": "python",
   "name": "python3"
  },
  "language_info": {
   "codemirror_mode": {
    "name": "ipython",
    "version": 3
   },
   "file_extension": ".py",
   "mimetype": "text/x-python",
   "name": "python",
   "nbconvert_exporter": "python",
   "pygments_lexer": "ipython3",
   "version": "3.6.3"
  }
 },
 "nbformat": 4,
 "nbformat_minor": 2
}
